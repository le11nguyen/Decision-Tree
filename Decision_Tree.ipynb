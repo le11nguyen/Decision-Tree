{
  "nbformat": 4,
  "nbformat_minor": 0,
  "metadata": {
    "colab": {
      "provenance": [],
      "authorship_tag": "ABX9TyOw6UlnOyL3YPY8alTs3bhp",
      "include_colab_link": true
    },
    "kernelspec": {
      "name": "python3",
      "display_name": "Python 3"
    },
    "language_info": {
      "name": "python"
    }
  },
  "cells": [
    {
      "cell_type": "markdown",
      "metadata": {
        "id": "view-in-github",
        "colab_type": "text"
      },
      "source": [
        "<a href=\"https://colab.research.google.com/github/le11nguyen/Decision-Tree/blob/main/Decision_Tree.ipynb\" target=\"_parent\"><img src=\"https://colab.research.google.com/assets/colab-badge.svg\" alt=\"Open In Colab\"/></a>"
      ]
    },
    {
      "cell_type": "code",
      "source": [
        "from sklearn import datasets\n",
        "from sklearn . model_selection import train_test_split\n",
        "from sklearn . metrics import accuracy_score\n",
        "from sklearn . tree import DecisionTreeClassifier\n",
        "\n",
        "\n",
        "#Paragraph C :\n",
        "# Load the diabetes dataset\n",
        "iris_X , iris_y = datasets.load_iris(return_X_y=True)\n",
        "\n",
        "#Paragraph B :\n",
        "# Define model\n",
        "dt_classifier = DecisionTreeClassifier ()\n",
        "# Split train : test = 8:2\n",
        "X_train , X_test , y_train , y_test = train_test_split (\n",
        "iris_X , iris_y ,\n",
        "test_size =0.2 ,\n",
        "random_state =42)\n",
        "\n",
        "# Paragraph A :\n",
        "# Train\n",
        "dt_classifier.fit ( X_train , y_train )\n",
        "\n",
        "#Paragraph D :\n",
        "# Preidct and evaluate\n",
        "y_pred = dt_classifier . predict ( X_test )\n",
        "accuracy_score ( y_test , y_pred )"
      ],
      "metadata": {
        "colab": {
          "base_uri": "https://localhost:8080/"
        },
        "id": "Zwxq0_EWEC8d",
        "outputId": "d1b88e04-86ae-416b-b738-8d8d9f0a4086"
      },
      "execution_count": 2,
      "outputs": [
        {
          "output_type": "execute_result",
          "data": {
            "text/plain": [
              "1.0"
            ]
          },
          "metadata": {},
          "execution_count": 2
        }
      ]
    },
    {
      "cell_type": "code",
      "source": [
        "from sklearn . datasets import fetch_openml\n",
        "from sklearn . model_selection import train_test_split\n",
        "from sklearn . metrics import mean_squared_error\n",
        "from sklearn . tree import DecisionTreeRegressor\n",
        "\n",
        "# Paragraph C :\n",
        "# Load dataset\n",
        "machine_cpu = fetch_openml ( name ='machine_cpu')\n",
        "machine_data = machine_cpu . data\n",
        "machine_labels = machine_cpu . target\n",
        "# Split train : test = 8:2\n",
        "X_train , X_test , y_train , y_test = train_test_split (\n",
        "machine_data , machine_labels ,\n",
        "test_size =0.2 ,\n",
        "random_state =42)\n",
        "\n",
        "# Paragraph B :\n",
        "# Define model\n",
        "tree_reg = DecisionTreeRegressor ()\n",
        "\n",
        "# Paragraph A :\n",
        "# Train\n",
        "tree_reg . fit ( X_train , y_train )\n",
        "\n",
        "# Paragraph D :\n",
        "# Preidct and evaluate\n",
        "y_pred = tree_reg . predict ( X_test )\n",
        "mean_squared_error ( y_test , y_pred )"
      ],
      "metadata": {
        "colab": {
          "base_uri": "https://localhost:8080/"
        },
        "id": "oIdPm4jGFMrr",
        "outputId": "1b6b41d3-5d95-4a7b-991a-4338d0a63d4e"
      },
      "execution_count": 3,
      "outputs": [
        {
          "output_type": "stream",
          "name": "stderr",
          "text": [
            "/usr/local/lib/python3.10/dist-packages/sklearn/datasets/_openml.py:311: UserWarning: Multiple active versions of the dataset matching the name machine_cpu exist. Versions may be fundamentally different, returning version 1.\n",
            "  warn(\n",
            "/usr/local/lib/python3.10/dist-packages/sklearn/datasets/_openml.py:1022: FutureWarning: The default value of `parser` will change from `'liac-arff'` to `'auto'` in 1.4. You can set `parser='auto'` to silence this warning. Therefore, an `ImportError` will be raised from 1.4 if the dataset is dense and pandas is not installed. Note that the pandas parser may return different data types. See the Notes Section in fetch_openml's API doc for details.\n",
            "  warn(\n"
          ]
        },
        {
          "output_type": "execute_result",
          "data": {
            "text/plain": [
              "9305.270502645502"
            ]
          },
          "metadata": {},
          "execution_count": 3
        }
      ]
    },
    {
      "cell_type": "code",
      "source": [],
      "metadata": {
        "id": "W62N05JNHtCC"
      },
      "execution_count": null,
      "outputs": []
    }
  ]
}